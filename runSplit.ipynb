{
 "cells": [
  {
   "cell_type": "markdown",
   "id": "initial-projector",
   "metadata": {},
   "source": [
    "# 数据拆分流程"
   ]
  },
  {
   "cell_type": "code",
   "execution_count": 1,
   "id": "e331d027-edf6-4ce4-b074-f8fba402a130",
   "metadata": {
    "tags": []
   },
   "outputs": [],
   "source": [
    "import pandas as pd\n",
    "import numpy as np\n",
    "import sys,glob,os,warnings\n",
    "import yaml\n",
    "\n",
    "warnings.filterwarnings(\"ignore\")\n",
    "sys.path.append(\"/home/zhangli_lab/zhouxiangyu/DATA/workflow/split-mgi-lanefastq/rules\")\n",
    "\n",
    "from mgi_scripts import *"
   ]
  },
  {
   "cell_type": "markdown",
   "id": "elder-spencer",
   "metadata": {},
   "source": [
    "# 1. 整理index 文件\n",
    "\n",
    "\n"
   ]
  },
  {
   "cell_type": "code",
   "execution_count": 2,
   "id": "4c4c2c22-4437-415c-aea2-ccd93a70c144",
   "metadata": {
    "tags": []
   },
   "outputs": [],
   "source": [
    "config='''\n",
    "cycletype: r100e1r100e1b8b8\n",
    "\n",
    "ChipID: V350264101\n",
    "\n",
    "\n",
    "lane_range: \"L01,L02,L03,L04\"\n",
    "\n",
    "step: 1\n",
    "\n",
    "index_file: Sample_index.csv\n",
    "\n",
    "rawfq_dir : /home/zhangli_lab/zhouxiangyu/DATA/mgi2000/rawfq/\n",
    "\n",
    "temp_dir: temp_dir/ \n",
    "\n",
    "outfq_dir: outfq_dir/\n",
    "'''\n",
    "yamlfile=os.path.join(\"config.yaml\")\n",
    "with open(yamlfile,'w') as f:\n",
    "    f.write(config)\n",
    "    \n",
    "with open(yamlfile) as f:\n",
    "    info = yaml.load(f, Loader=yaml.FullLoader)\n"
   ]
  },
  {
   "cell_type": "code",
   "execution_count": 3,
   "id": "great-boxing",
   "metadata": {
    "tags": []
   },
   "outputs": [
    {
     "data": {
      "text/plain": [
       "Lane  Lab     libtype  \n",
       "L01   罗敏敏实验室  Smart-seq     384\n",
       "              真核链特异性          4\n",
       "      陈坚实验室   Smart-seq      68\n",
       "L02   井淼实验室   DNA常规小片段        2\n",
       "      罗敏敏实验室  Smart-seq    1152\n",
       "              真核链特异性          4\n",
       "L03   罗敏敏实验室  Smart-seq    1920\n",
       "L04   罗敏敏实验室  Smart-seq    1920\n",
       "Name: count, dtype: int64"
      ]
     },
     "execution_count": 3,
     "metadata": {},
     "output_type": "execute_result"
    }
   ],
   "source": [
    "excel=get_standard_index(\"%s.index.csv\"%info[\"ChipID\"])\n",
    "excel.libtype=excel.libtype.replace(\"Smartseq\",'Smart-seq')\n",
    "excel.libtype=excel.libtype.replace(\"unkown\",'Smart-seq')\n",
    "excel.sampleName=excel.sampleName.str.replace(\"/\",'_').str.replace(\" \",'-')\n",
    "excel.batch=excel.batch.str.replace(\"/\",'_').str.replace(\" \",'-')\n",
    "excel.belonguser=excel.belonguser.replace(\"test\",\"戴睿成\")\n",
    "\n",
    "\n",
    "#excel.libtype=excel.libtype.replace(\"\",\"unkown\")\n",
    "#excel.libtype=excel.apply(lambda x:\"真核普通转录组\" if x.belonguser==\"吴为\" else x.libtype,axis=1)\n",
    "#excel.libtype=excel.apply(lambda x:\"Smart-seq\" if x.libtype==\"ATAC\" else x.libtype,axis=1)\n",
    "\n",
    "excel[['Lane','Lab','libtype']].value_counts().sort_index()\n"
   ]
  },
  {
   "cell_type": "code",
   "execution_count": 4,
   "id": "cultural-enzyme",
   "metadata": {
    "tags": []
   },
   "outputs": [
    {
     "data": {
      "text/html": [
       "<div>\n",
       "<style scoped>\n",
       "    .dataframe tbody tr th:only-of-type {\n",
       "        vertical-align: middle;\n",
       "    }\n",
       "\n",
       "    .dataframe tbody tr th {\n",
       "        vertical-align: top;\n",
       "    }\n",
       "\n",
       "    .dataframe thead th {\n",
       "        text-align: right;\n",
       "    }\n",
       "</style>\n",
       "<table border=\"1\" class=\"dataframe\">\n",
       "  <thead>\n",
       "    <tr style=\"text-align: right;\">\n",
       "      <th></th>\n",
       "      <th>Lane</th>\n",
       "      <th>Lab</th>\n",
       "      <th>belonguser</th>\n",
       "      <th>batch</th>\n",
       "      <th>libtype</th>\n",
       "      <th>Sample_num</th>\n",
       "    </tr>\n",
       "  </thead>\n",
       "  <tbody>\n",
       "    <tr>\n",
       "      <th>0</th>\n",
       "      <td>L01</td>\n",
       "      <td>ChenLab</td>\n",
       "      <td>FuJY</td>\n",
       "      <td>LPS-neuron</td>\n",
       "      <td>Smartseq</td>\n",
       "      <td>68</td>\n",
       "    </tr>\n",
       "    <tr>\n",
       "      <th>1</th>\n",
       "      <td>L01</td>\n",
       "      <td>LuoLab</td>\n",
       "      <td>DaiRC</td>\n",
       "      <td>DRC-cOpn5-day1-1-index20</td>\n",
       "      <td>Smartseq</td>\n",
       "      <td>384</td>\n",
       "    </tr>\n",
       "    <tr>\n",
       "      <th>2</th>\n",
       "      <td>L01</td>\n",
       "      <td>LuoLab</td>\n",
       "      <td>WangYi</td>\n",
       "      <td>WY-1</td>\n",
       "      <td>真核链特异性</td>\n",
       "      <td>4</td>\n",
       "    </tr>\n",
       "    <tr>\n",
       "      <th>3</th>\n",
       "      <td>L02</td>\n",
       "      <td>JingLab</td>\n",
       "      <td>WangYa</td>\n",
       "      <td>0-1_10-2</td>\n",
       "      <td>DNA常规小片段</td>\n",
       "      <td>2</td>\n",
       "    </tr>\n",
       "    <tr>\n",
       "      <th>4</th>\n",
       "      <td>L02</td>\n",
       "      <td>LuoLab</td>\n",
       "      <td>DaiRC</td>\n",
       "      <td>DRC-cOpn5-day1-2-index1</td>\n",
       "      <td>Smartseq</td>\n",
       "      <td>384</td>\n",
       "    </tr>\n",
       "    <tr>\n",
       "      <th>5</th>\n",
       "      <td>L02</td>\n",
       "      <td>LuoLab</td>\n",
       "      <td>DaiRC</td>\n",
       "      <td>DRC-cOpn5-day1-7-index21</td>\n",
       "      <td>Smartseq</td>\n",
       "      <td>384</td>\n",
       "    </tr>\n",
       "    <tr>\n",
       "      <th>6</th>\n",
       "      <td>L02</td>\n",
       "      <td>LuoLab</td>\n",
       "      <td>DaiRC</td>\n",
       "      <td>DRC-cOpn5-day1-9-index22</td>\n",
       "      <td>Smartseq</td>\n",
       "      <td>384</td>\n",
       "    </tr>\n",
       "    <tr>\n",
       "      <th>7</th>\n",
       "      <td>L02</td>\n",
       "      <td>LuoLab</td>\n",
       "      <td>WangYi</td>\n",
       "      <td>WY-2</td>\n",
       "      <td>真核链特异性</td>\n",
       "      <td>4</td>\n",
       "    </tr>\n",
       "    <tr>\n",
       "      <th>8</th>\n",
       "      <td>L03</td>\n",
       "      <td>LuoLab</td>\n",
       "      <td>DaiRC</td>\n",
       "      <td>DRC-Cx3crl-cOpn5-3w-1-index4</td>\n",
       "      <td>Smartseq</td>\n",
       "      <td>384</td>\n",
       "    </tr>\n",
       "    <tr>\n",
       "      <th>9</th>\n",
       "      <td>L03</td>\n",
       "      <td>LuoLab</td>\n",
       "      <td>DaiRC</td>\n",
       "      <td>DRC-Cx3crl-cOpn5-3w-2-index5</td>\n",
       "      <td>Smartseq</td>\n",
       "      <td>384</td>\n",
       "    </tr>\n",
       "    <tr>\n",
       "      <th>10</th>\n",
       "      <td>L03</td>\n",
       "      <td>LuoLab</td>\n",
       "      <td>DaiRC</td>\n",
       "      <td>DRC-Cx3crl-cOpn5-3w-6-index6</td>\n",
       "      <td>Smartseq</td>\n",
       "      <td>384</td>\n",
       "    </tr>\n",
       "    <tr>\n",
       "      <th>11</th>\n",
       "      <td>L03</td>\n",
       "      <td>LuoLab</td>\n",
       "      <td>DaiRC</td>\n",
       "      <td>DRC-Cx3crl-cOpn5-ctrl-2-index7</td>\n",
       "      <td>Smartseq</td>\n",
       "      <td>384</td>\n",
       "    </tr>\n",
       "    <tr>\n",
       "      <th>12</th>\n",
       "      <td>L03</td>\n",
       "      <td>LuoLab</td>\n",
       "      <td>DaiRC</td>\n",
       "      <td>DRC-cOpn5-day1-3-index3</td>\n",
       "      <td>Smartseq</td>\n",
       "      <td>384</td>\n",
       "    </tr>\n",
       "    <tr>\n",
       "      <th>13</th>\n",
       "      <td>L04</td>\n",
       "      <td>LuoLab</td>\n",
       "      <td>DaiRC</td>\n",
       "      <td>DRC-Cx3crl-cOpn5-3w-10-index11</td>\n",
       "      <td>Smartseq</td>\n",
       "      <td>384</td>\n",
       "    </tr>\n",
       "    <tr>\n",
       "      <th>14</th>\n",
       "      <td>L04</td>\n",
       "      <td>LuoLab</td>\n",
       "      <td>DaiRC</td>\n",
       "      <td>DRC-Cx3crl-cOpn5-3w-7-index8</td>\n",
       "      <td>Smartseq</td>\n",
       "      <td>384</td>\n",
       "    </tr>\n",
       "    <tr>\n",
       "      <th>15</th>\n",
       "      <td>L04</td>\n",
       "      <td>LuoLab</td>\n",
       "      <td>DaiRC</td>\n",
       "      <td>DRC-Cx3crl-cOpn5-3w-8-index9</td>\n",
       "      <td>Smartseq</td>\n",
       "      <td>384</td>\n",
       "    </tr>\n",
       "    <tr>\n",
       "      <th>16</th>\n",
       "      <td>L04</td>\n",
       "      <td>LuoLab</td>\n",
       "      <td>DaiRC</td>\n",
       "      <td>DRC-Cx3crl-cOpn5-3w-9-index10</td>\n",
       "      <td>Smartseq</td>\n",
       "      <td>384</td>\n",
       "    </tr>\n",
       "    <tr>\n",
       "      <th>17</th>\n",
       "      <td>L04</td>\n",
       "      <td>LuoLab</td>\n",
       "      <td>DaiRC</td>\n",
       "      <td>DRC-Cx3crl-cOpn5-ctrl-1-index15</td>\n",
       "      <td>Smartseq</td>\n",
       "      <td>384</td>\n",
       "    </tr>\n",
       "  </tbody>\n",
       "</table>\n",
       "</div>"
      ],
      "text/plain": [
       "   Lane      Lab belonguser                            batch   libtype  \\\n",
       "0   L01  ChenLab       FuJY                       LPS-neuron  Smartseq   \n",
       "1   L01   LuoLab      DaiRC         DRC-cOpn5-day1-1-index20  Smartseq   \n",
       "2   L01   LuoLab     WangYi                             WY-1    真核链特异性   \n",
       "3   L02  JingLab     WangYa                         0-1_10-2  DNA常规小片段   \n",
       "4   L02   LuoLab      DaiRC          DRC-cOpn5-day1-2-index1  Smartseq   \n",
       "5   L02   LuoLab      DaiRC         DRC-cOpn5-day1-7-index21  Smartseq   \n",
       "6   L02   LuoLab      DaiRC         DRC-cOpn5-day1-9-index22  Smartseq   \n",
       "7   L02   LuoLab     WangYi                             WY-2    真核链特异性   \n",
       "8   L03   LuoLab      DaiRC     DRC-Cx3crl-cOpn5-3w-1-index4  Smartseq   \n",
       "9   L03   LuoLab      DaiRC     DRC-Cx3crl-cOpn5-3w-2-index5  Smartseq   \n",
       "10  L03   LuoLab      DaiRC     DRC-Cx3crl-cOpn5-3w-6-index6  Smartseq   \n",
       "11  L03   LuoLab      DaiRC   DRC-Cx3crl-cOpn5-ctrl-2-index7  Smartseq   \n",
       "12  L03   LuoLab      DaiRC          DRC-cOpn5-day1-3-index3  Smartseq   \n",
       "13  L04   LuoLab      DaiRC   DRC-Cx3crl-cOpn5-3w-10-index11  Smartseq   \n",
       "14  L04   LuoLab      DaiRC     DRC-Cx3crl-cOpn5-3w-7-index8  Smartseq   \n",
       "15  L04   LuoLab      DaiRC     DRC-Cx3crl-cOpn5-3w-8-index9  Smartseq   \n",
       "16  L04   LuoLab      DaiRC    DRC-Cx3crl-cOpn5-3w-9-index10  Smartseq   \n",
       "17  L04   LuoLab      DaiRC  DRC-Cx3crl-cOpn5-ctrl-1-index15  Smartseq   \n",
       "\n",
       "    Sample_num  \n",
       "0           68  \n",
       "1          384  \n",
       "2            4  \n",
       "3            2  \n",
       "4          384  \n",
       "5          384  \n",
       "6          384  \n",
       "7            4  \n",
       "8          384  \n",
       "9          384  \n",
       "10         384  \n",
       "11         384  \n",
       "12         384  \n",
       "13         384  \n",
       "14         384  \n",
       "15         384  \n",
       "16         384  \n",
       "17         384  "
      ]
     },
     "execution_count": 4,
     "metadata": {},
     "output_type": "execute_result"
    }
   ],
   "source": [
    "df1=excel[excel.libtype==\"Smart-seq\"]\n",
    "df2=excel[excel.libtype!=\"Smart-seq\"]\n",
    "SampleInfo=pd.concat([smartseq_index(df1),df2])\n",
    "SampleInfo.Lab=SampleInfo.Lab.apply(info_zh_to_en)\n",
    "SampleInfo.belonguser=SampleInfo.belonguser.apply(info_zh_to_en)\n",
    "SampleInfo.to_csv(\"Sample_index.csv\",index=False)\n",
    "SampleInfo[['Lane','Lab',\"belonguser\",'batch','libtype']].value_counts().to_frame(\"Sample_num\").sort_index().reset_index()"
   ]
  },
  {
   "cell_type": "markdown",
   "id": "5e67665b-ddd0-4dd1-a714-5750764954b9",
   "metadata": {},
   "source": [
    "#### 确认是否存在命名重复的问题"
   ]
  },
  {
   "cell_type": "code",
   "execution_count": 6,
   "id": "b38051cf-9fd8-46c8-a900-9b3530b828be",
   "metadata": {
    "tags": []
   },
   "outputs": [
    {
     "data": {
      "text/plain": [
       "count\n",
       "1    5454\n",
       "Name: count, dtype: int64"
      ]
     },
     "execution_count": 6,
     "metadata": {},
     "output_type": "execute_result"
    }
   ],
   "source": [
    "SampleInfo.sampleName.value_counts().value_counts()"
   ]
  },
  {
   "cell_type": "code",
   "execution_count": 7,
   "id": "f1402003-a1fa-4633-a5aa-30381c5c4960",
   "metadata": {
    "tags": []
   },
   "outputs": [
    {
     "data": {
      "text/html": [
       "<div>\n",
       "<style scoped>\n",
       "    .dataframe tbody tr th:only-of-type {\n",
       "        vertical-align: middle;\n",
       "    }\n",
       "\n",
       "    .dataframe tbody tr th {\n",
       "        vertical-align: top;\n",
       "    }\n",
       "\n",
       "    .dataframe thead th {\n",
       "        text-align: right;\n",
       "    }\n",
       "</style>\n",
       "<table border=\"1\" class=\"dataframe\">\n",
       "  <thead>\n",
       "    <tr style=\"text-align: right;\">\n",
       "      <th></th>\n",
       "      <th>sampleName</th>\n",
       "      <th>i5</th>\n",
       "      <th>i7</th>\n",
       "      <th>CHIP</th>\n",
       "      <th>Lane</th>\n",
       "      <th>Lab</th>\n",
       "      <th>belonguser</th>\n",
       "      <th>batch</th>\n",
       "      <th>libtype</th>\n",
       "    </tr>\n",
       "  </thead>\n",
       "  <tbody>\n",
       "  </tbody>\n",
       "</table>\n",
       "</div>"
      ],
      "text/plain": [
       "Empty DataFrame\n",
       "Columns: [sampleName, i5, i7, CHIP, Lane, Lab, belonguser, batch, libtype]\n",
       "Index: []"
      ]
     },
     "execution_count": 7,
     "metadata": {},
     "output_type": "execute_result"
    }
   ],
   "source": [
    "SampleInfo[SampleInfo.sampleName.duplicated(keep=False)]"
   ]
  },
  {
   "cell_type": "markdown",
   "id": "660c5409-f8cf-4628-b51d-e4931d237e9b",
   "metadata": {
    "tags": []
   },
   "source": [
    "#### 确认是否存在index重复的问题"
   ]
  },
  {
   "cell_type": "code",
   "execution_count": 8,
   "id": "a9834058-e177-4da4-8877-b9fd04b60e5c",
   "metadata": {
    "tags": []
   },
   "outputs": [
    {
     "data": {
      "text/html": [
       "<div>\n",
       "<style scoped>\n",
       "    .dataframe tbody tr th:only-of-type {\n",
       "        vertical-align: middle;\n",
       "    }\n",
       "\n",
       "    .dataframe tbody tr th {\n",
       "        vertical-align: top;\n",
       "    }\n",
       "\n",
       "    .dataframe thead th {\n",
       "        text-align: right;\n",
       "    }\n",
       "</style>\n",
       "<table border=\"1\" class=\"dataframe\">\n",
       "  <thead>\n",
       "    <tr style=\"text-align: right;\">\n",
       "      <th></th>\n",
       "      <th>sampleName</th>\n",
       "      <th>i5</th>\n",
       "      <th>i7</th>\n",
       "      <th>CHIP</th>\n",
       "      <th>Lane</th>\n",
       "      <th>Lab</th>\n",
       "      <th>belonguser</th>\n",
       "      <th>batch</th>\n",
       "      <th>libtype</th>\n",
       "    </tr>\n",
       "  </thead>\n",
       "  <tbody>\n",
       "  </tbody>\n",
       "</table>\n",
       "</div>"
      ],
      "text/plain": [
       "Empty DataFrame\n",
       "Columns: [sampleName, i5, i7, CHIP, Lane, Lab, belonguser, batch, libtype]\n",
       "Index: []"
      ]
     },
     "execution_count": 8,
     "metadata": {},
     "output_type": "execute_result"
    }
   ],
   "source": [
    "remove_list=SampleInfo[SampleInfo[[\"Lane\",'i5','i7']].duplicated(keep=False)]\n",
    "remove_list"
   ]
  },
  {
   "cell_type": "markdown",
   "id": "4e20d402-efd5-4f03-a8c4-8ddc4ceb7111",
   "metadata": {},
   "source": [
    "#### 去除重复index 样品"
   ]
  },
  {
   "cell_type": "code",
   "execution_count": 17,
   "id": "c0a38104-23b1-4d3c-a7b1-ec448f29eaec",
   "metadata": {
    "tags": []
   },
   "outputs": [],
   "source": [
    "SampleInfo[SampleInfo.sampleName.isin(remove_list.sampleName)==False].to_csv(\"Sample_index.csv\",index=False)"
   ]
  },
  {
   "cell_type": "code",
   "execution_count": 44,
   "id": "competitive-police",
   "metadata": {},
   "outputs": [],
   "source": []
  },
  {
   "cell_type": "markdown",
   "id": "5ff6e070-44f2-49c7-8514-d953c3c7f1f1",
   "metadata": {},
   "source": [
    "# 运行拆分程序"
   ]
  },
  {
   "cell_type": "markdown",
   "id": "a189fd1c-a93c-4253-94e6-8c30e53a0242",
   "metadata": {},
   "source": [
    "```sh\n",
    "conda activate snakePipes\n",
    "\n",
    "srun -p q_fat_z \n",
    "snakemake -j10 --configfile config.yaml --config step=1 \\\n",
    "--snakefile /home/zhangli_lab/zhouxiangyu/DATA/workflow/mgi2000/Snakefile \\\n",
    "--cluster \"sbatch -N 1 -c 6 -p q_fat,q_cn,q_fat_z --mem 50G\" -np\n",
    "\n",
    "\n",
    "snakemake -j10 --configfile config.yaml --config step=2 \\\n",
    "--snakefile /home/zhangli_lab/zhouxiangyu/DATA/workflow/mgi2000/Snakefile \\\n",
    "--cluster \"sbatch -N 1 -c 6 -p q_fat,q_cn,q_fat_z --mem 50G\" -np\n",
    "```"
   ]
  },
  {
   "cell_type": "markdown",
   "id": "64b53d69-ddff-4eb9-9030-48ce43ef113a",
   "metadata": {},
   "source": [
    "# 检查未拆分序列"
   ]
  },
  {
   "cell_type": "code",
   "execution_count": 6,
   "id": "c89b4a19-4915-4a85-96b1-1a798a01fbe2",
   "metadata": {
    "tags": []
   },
   "outputs": [
    {
     "name": "stdout",
     "output_type": "stream",
     "text": [
      "L01\n",
      "I5_Drc I7_Drc\n",
      "Lane  belonguser  batch                   \n",
      "L02   DaiRC       DRC-cOpn5-day1-9-index22    28\n",
      "Name: count, dtype: int64\n",
      "\n",
      "\n",
      "L02\n",
      "\n",
      "\n",
      "L03\n",
      "\n",
      "\n",
      "L04\n",
      "\n",
      "\n"
     ]
    }
   ],
   "source": [
    "for lane in [\"L01\",\"L02\",\"L03\",\"L04\"]:\n",
    "    print(lane)\n",
    "    check_lane(lane,SampleInfo)\n",
    "    print(\"\\n\")"
   ]
  },
  {
   "cell_type": "markdown",
   "id": "2aee1d62-453d-4893-be6c-06b0bc7a7634",
   "metadata": {},
   "source": [
    "# 统计"
   ]
  },
  {
   "cell_type": "code",
   "execution_count": 7,
   "id": "5c241920-6f50-492f-9116-053cb41856ec",
   "metadata": {
    "tags": []
   },
   "outputs": [],
   "source": [
    "import pandas as pd\n",
    "import glob"
   ]
  },
  {
   "cell_type": "code",
   "execution_count": 9,
   "id": "5122bf2d-969d-45d9-bb62-de1f3f98eb3f",
   "metadata": {
    "tags": []
   },
   "outputs": [
    {
     "data": {
      "text/html": [
       "<div>\n",
       "<style scoped>\n",
       "    .dataframe tbody tr th:only-of-type {\n",
       "        vertical-align: middle;\n",
       "    }\n",
       "\n",
       "    .dataframe tbody tr th {\n",
       "        vertical-align: top;\n",
       "    }\n",
       "\n",
       "    .dataframe thead th {\n",
       "        text-align: right;\n",
       "    }\n",
       "</style>\n",
       "<table border=\"1\" class=\"dataframe\">\n",
       "  <thead>\n",
       "    <tr style=\"text-align: right;\">\n",
       "      <th></th>\n",
       "      <th>Chip</th>\n",
       "      <th>Lane</th>\n",
       "      <th>ChipProductivity(%)</th>\n",
       "      <th>CycleNumber</th>\n",
       "      <th>ImageArea</th>\n",
       "      <th>Q30(%)</th>\n",
       "      <th>SplitRate(%)</th>\n",
       "      <th>TotalReads(M)</th>\n",
       "    </tr>\n",
       "  </thead>\n",
       "  <tbody>\n",
       "    <tr>\n",
       "      <th>0</th>\n",
       "      <td>V350264101</td>\n",
       "      <td>L01</td>\n",
       "      <td>72.85</td>\n",
       "      <td>216</td>\n",
       "      <td>432</td>\n",
       "      <td>94.71</td>\n",
       "      <td>94.39</td>\n",
       "      <td>418.28</td>\n",
       "    </tr>\n",
       "    <tr>\n",
       "      <th>1</th>\n",
       "      <td>V350264101</td>\n",
       "      <td>L02</td>\n",
       "      <td>76.77</td>\n",
       "      <td>216</td>\n",
       "      <td>432</td>\n",
       "      <td>94.34</td>\n",
       "      <td>96.15</td>\n",
       "      <td>449.00</td>\n",
       "    </tr>\n",
       "    <tr>\n",
       "      <th>2</th>\n",
       "      <td>V350264101</td>\n",
       "      <td>L03</td>\n",
       "      <td>77.21</td>\n",
       "      <td>216</td>\n",
       "      <td>432</td>\n",
       "      <td>95.05</td>\n",
       "      <td>96.86</td>\n",
       "      <td>454.92</td>\n",
       "    </tr>\n",
       "    <tr>\n",
       "      <th>3</th>\n",
       "      <td>V350264101</td>\n",
       "      <td>L04</td>\n",
       "      <td>75.90</td>\n",
       "      <td>216</td>\n",
       "      <td>432</td>\n",
       "      <td>96.56</td>\n",
       "      <td>97.10</td>\n",
       "      <td>448.29</td>\n",
       "    </tr>\n",
       "  </tbody>\n",
       "</table>\n",
       "</div>"
      ],
      "text/plain": [
       "         Chip Lane  ChipProductivity(%)  CycleNumber  ImageArea  Q30(%)  \\\n",
       "0  V350264101  L01                72.85          216        432   94.71   \n",
       "1  V350264101  L02                76.77          216        432   94.34   \n",
       "2  V350264101  L03                77.21          216        432   95.05   \n",
       "3  V350264101  L04                75.90          216        432   96.56   \n",
       "\n",
       "   SplitRate(%)  TotalReads(M)  \n",
       "0         94.39         418.28  \n",
       "1         96.15         449.00  \n",
       "2         96.86         454.92  \n",
       "3         97.10         448.29  "
      ]
     },
     "execution_count": 9,
     "metadata": {},
     "output_type": "execute_result"
    }
   ],
   "source": [
    "pd.read_csv(\"temp_dir/%s.stat.txt\"%info[\"ChipID\"],sep='\\t')\n"
   ]
  },
  {
   "cell_type": "code",
   "execution_count": 10,
   "id": "15a1465a-be34-4d6e-ba51-164a032ec46a",
   "metadata": {
    "tags": []
   },
   "outputs": [
    {
     "name": "stdout",
     "output_type": "stream",
     "text": [
      "                 Samples Size(G) reads(M)\n",
      "user batch                               \n",
      "FuJY LPS-neuron       68   31.59   157.97\n",
      "                 Samples Size(G) reads(M)\n",
      "user   batch                             \n",
      "WangYa 0-1_10-2        2    0.54     2.68\n"
     ]
    }
   ],
   "source": [
    "outdict={}\n",
    "for i in SampleInfo.Lab.unique()[1:]:\n",
    "    res=get_stat(\"./outfq_dir/%s/\"%i)\n",
    "    res=res.merge(SampleInfo[[\"sampleName\",'libtype']],on=\"sampleName\")\n",
    "    res.batch=res.apply(lambda x:\"-\".join(x.sampleName.split(\"-\")[:-1]) if x.libtype==\"Smartseq\" else x.batch,axis=1)\n",
    "    out=get_stat_result(res,[\"user\",'batch']).sort_index(ascending=False)\n",
    "    outdict[i]=out\n",
    "    print(out)"
   ]
  },
  {
   "cell_type": "code",
   "execution_count": 13,
   "id": "251d8473-4394-44e8-a7ca-fbed96b4ddbe",
   "metadata": {
    "tags": []
   },
   "outputs": [
    {
     "data": {
      "text/html": [
       "<div>\n",
       "<style scoped>\n",
       "    .dataframe tbody tr th:only-of-type {\n",
       "        vertical-align: middle;\n",
       "    }\n",
       "\n",
       "    .dataframe tbody tr th {\n",
       "        vertical-align: top;\n",
       "    }\n",
       "\n",
       "    .dataframe thead th {\n",
       "        text-align: right;\n",
       "    }\n",
       "</style>\n",
       "<table border=\"1\" class=\"dataframe\">\n",
       "  <thead>\n",
       "    <tr style=\"text-align: right;\">\n",
       "      <th></th>\n",
       "      <th></th>\n",
       "      <th>Samples</th>\n",
       "      <th>Size(G)</th>\n",
       "      <th>reads(M)</th>\n",
       "    </tr>\n",
       "    <tr>\n",
       "      <th>user</th>\n",
       "      <th>batch</th>\n",
       "      <th></th>\n",
       "      <th></th>\n",
       "      <th></th>\n",
       "    </tr>\n",
       "  </thead>\n",
       "  <tbody>\n",
       "    <tr>\n",
       "      <th>FuJY</th>\n",
       "      <th>LPS-neuron</th>\n",
       "      <td>68</td>\n",
       "      <td>31.59</td>\n",
       "      <td>157.97</td>\n",
       "    </tr>\n",
       "  </tbody>\n",
       "</table>\n",
       "</div>"
      ],
      "text/plain": [
       "                 Samples Size(G) reads(M)\n",
       "user batch                               \n",
       "FuJY LPS-neuron       68   31.59   157.97"
      ]
     },
     "execution_count": 13,
     "metadata": {},
     "output_type": "execute_result"
    }
   ],
   "source": [
    "outdict[\"ChenLab\"]"
   ]
  },
  {
   "cell_type": "code",
   "execution_count": 14,
   "id": "6710be82-e9c8-483a-8712-b913088ab3bf",
   "metadata": {
    "tags": []
   },
   "outputs": [
    {
     "data": {
      "text/html": [
       "<div>\n",
       "<style scoped>\n",
       "    .dataframe tbody tr th:only-of-type {\n",
       "        vertical-align: middle;\n",
       "    }\n",
       "\n",
       "    .dataframe tbody tr th {\n",
       "        vertical-align: top;\n",
       "    }\n",
       "\n",
       "    .dataframe thead th {\n",
       "        text-align: right;\n",
       "    }\n",
       "</style>\n",
       "<table border=\"1\" class=\"dataframe\">\n",
       "  <thead>\n",
       "    <tr style=\"text-align: right;\">\n",
       "      <th></th>\n",
       "      <th></th>\n",
       "      <th>Samples</th>\n",
       "      <th>Size(G)</th>\n",
       "      <th>reads(M)</th>\n",
       "    </tr>\n",
       "    <tr>\n",
       "      <th>user</th>\n",
       "      <th>batch</th>\n",
       "      <th></th>\n",
       "      <th></th>\n",
       "      <th></th>\n",
       "    </tr>\n",
       "  </thead>\n",
       "  <tbody>\n",
       "    <tr>\n",
       "      <th>WangYa</th>\n",
       "      <th>0-1_10-2</th>\n",
       "      <td>2</td>\n",
       "      <td>0.54</td>\n",
       "      <td>2.68</td>\n",
       "    </tr>\n",
       "  </tbody>\n",
       "</table>\n",
       "</div>"
      ],
      "text/plain": [
       "                 Samples Size(G) reads(M)\n",
       "user   batch                             \n",
       "WangYa 0-1_10-2        2    0.54     2.68"
      ]
     },
     "execution_count": 14,
     "metadata": {},
     "output_type": "execute_result"
    }
   ],
   "source": [
    "outdict[\"JingLab\"]"
   ]
  },
  {
   "cell_type": "code",
   "execution_count": 16,
   "id": "d4dbca6c-8050-4535-b749-913def000cde",
   "metadata": {
    "tags": []
   },
   "outputs": [
    {
     "data": {
      "text/html": [
       "<div>\n",
       "<style scoped>\n",
       "    .dataframe tbody tr th:only-of-type {\n",
       "        vertical-align: middle;\n",
       "    }\n",
       "\n",
       "    .dataframe tbody tr th {\n",
       "        vertical-align: top;\n",
       "    }\n",
       "\n",
       "    .dataframe thead th {\n",
       "        text-align: right;\n",
       "    }\n",
       "</style>\n",
       "<table border=\"1\" class=\"dataframe\">\n",
       "  <thead>\n",
       "    <tr style=\"text-align: right;\">\n",
       "      <th></th>\n",
       "      <th>sampleName</th>\n",
       "      <th>batch</th>\n",
       "      <th>ReadNum</th>\n",
       "      <th>ReadLength</th>\n",
       "      <th>GC%</th>\n",
       "      <th>Q10%</th>\n",
       "      <th>Q20%</th>\n",
       "      <th>Q30%</th>\n",
       "      <th>BaseNum</th>\n",
       "      <th>user</th>\n",
       "    </tr>\n",
       "  </thead>\n",
       "  <tbody>\n",
       "    <tr>\n",
       "      <th>0</th>\n",
       "      <td>0-1</td>\n",
       "      <td>0-1_10-2</td>\n",
       "      <td>1330123</td>\n",
       "      <td>100</td>\n",
       "      <td>52.17</td>\n",
       "      <td>99.34</td>\n",
       "      <td>92.52</td>\n",
       "      <td>81.95</td>\n",
       "      <td>266024600</td>\n",
       "      <td>WangYa</td>\n",
       "    </tr>\n",
       "    <tr>\n",
       "      <th>1</th>\n",
       "      <td>10-2</td>\n",
       "      <td>0-1_10-2</td>\n",
       "      <td>1349134</td>\n",
       "      <td>100</td>\n",
       "      <td>52.11</td>\n",
       "      <td>99.31</td>\n",
       "      <td>92.48</td>\n",
       "      <td>81.88</td>\n",
       "      <td>269826800</td>\n",
       "      <td>WangYa</td>\n",
       "    </tr>\n",
       "  </tbody>\n",
       "</table>\n",
       "</div>"
      ],
      "text/plain": [
       "  sampleName     batch  ReadNum  ReadLength    GC%   Q10%   Q20%   Q30%  \\\n",
       "0        0-1  0-1_10-2  1330123         100  52.17  99.34  92.52  81.95   \n",
       "1       10-2  0-1_10-2  1349134         100  52.11  99.31  92.48  81.88   \n",
       "\n",
       "     BaseNum    user  \n",
       "0  266024600  WangYa  \n",
       "1  269826800  WangYa  "
      ]
     },
     "execution_count": 16,
     "metadata": {},
     "output_type": "execute_result"
    }
   ],
   "source": [
    "i=\"JingLab\"\n",
    "res=get_stat(\"./outfq_dir/%s/\"%i)\n",
    "res"
   ]
  }
 ],
 "metadata": {
  "kernelspec": {
   "display_name": "Python 3 (ipykernel)",
   "language": "python",
   "name": "python3"
  },
  "language_info": {
   "codemirror_mode": {
    "name": "ipython",
    "version": 3
   },
   "file_extension": ".py",
   "mimetype": "text/x-python",
   "name": "python",
   "nbconvert_exporter": "python",
   "pygments_lexer": "ipython3",
   "version": "3.11.5"
  }
 },
 "nbformat": 4,
 "nbformat_minor": 5
}
